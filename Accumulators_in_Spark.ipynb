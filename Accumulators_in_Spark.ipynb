{
  "nbformat": 4,
  "nbformat_minor": 0,
  "metadata": {
    "colab": {
      "provenance": [],
      "authorship_tag": "ABX9TyPoWBMNqPm0rmRzpoureI3D",
      "include_colab_link": true
    },
    "kernelspec": {
      "name": "python3",
      "display_name": "Python 3"
    },
    "language_info": {
      "name": "python"
    }
  },
  "cells": [
    {
      "cell_type": "markdown",
      "metadata": {
        "id": "view-in-github",
        "colab_type": "text"
      },
      "source": [
        "<a href=\"https://colab.research.google.com/github/gitanujjain/pyspark_practice/blob/main/Accumulators_in_Spark.ipynb\" target=\"_parent\"><img src=\"https://colab.research.google.com/assets/colab-badge.svg\" alt=\"Open In Colab\"/></a>"
      ]
    },
    {
      "cell_type": "code",
      "execution_count": 1,
      "metadata": {
        "id": "doyHcaVjycCB"
      },
      "outputs": [],
      "source": [
        "import os\n",
        "!apt-get install openjdk-8-jdk-headless -qq > /dev/null\n",
        "!wget -q https://dlcdn.apache.org/spark/spark-3.5.3/spark-3.5.3-bin-hadoop3.tgz\n",
        "!tar -xf spark-3.5.3-bin-hadoop3.tgz\n",
        "!pip install -q findspark\n",
        "\n",
        "os.environ[\"JAVA_HOME\"] = \"/usr/lib/jvm/java-8-openjdk-amd64\"\n",
        "os.environ[\"SPARK_HOME\"] = \"/content/spark-3.5.3-bin-hadoop3\""
      ]
    },
    {
      "cell_type": "code",
      "source": [
        "import findspark\n",
        "findspark.init()\n",
        "from pyspark.sql import SparkSession\n",
        "spark = SparkSession.builder\\\n",
        "        .master(\"local\")\\\n",
        "        .appName(\"Colab\")\\\n",
        "        .config(\"spark.driver.memory\", \"8g\")\\\n",
        "        .config(\"spark.driver.cores\",\"4\")\\\n",
        "        .getOrCreate()"
      ],
      "metadata": {
        "id": "JT_K3Pu9yfap"
      },
      "execution_count": 2,
      "outputs": []
    },
    {
      "cell_type": "code",
      "source": [
        "sc=spark.sparkContext\n",
        "sc.setLogLevel(\"ERROR\")"
      ],
      "metadata": {
        "id": "wW3qCdzPyzBh"
      },
      "execution_count": 3,
      "outputs": []
    },
    {
      "cell_type": "code",
      "source": [
        "data=[('A',23,),('B',39),('C',34),('D',32)]\n",
        "schema=[\"Name\",\"Age\"]\n"
      ],
      "metadata": {
        "id": "r72yqd_6zlUP"
      },
      "execution_count": 4,
      "outputs": []
    },
    {
      "cell_type": "code",
      "source": [
        "df=spark.createDataFrame(data, schema=schema)"
      ],
      "metadata": {
        "id": "c45hLSq22ExJ"
      },
      "execution_count": 5,
      "outputs": []
    },
    {
      "cell_type": "code",
      "source": [
        "df.show()"
      ],
      "metadata": {
        "colab": {
          "base_uri": "https://localhost:8080/"
        },
        "id": "bIvcqi3H4Y4c",
        "outputId": "2880ae17-d977-4229-edbf-8673243c7aae"
      },
      "execution_count": 6,
      "outputs": [
        {
          "output_type": "stream",
          "name": "stdout",
          "text": [
            "+----+---+\n",
            "|Name|Age|\n",
            "+----+---+\n",
            "|   A| 23|\n",
            "|   B| 39|\n",
            "|   C| 34|\n",
            "|   D| 32|\n",
            "+----+---+\n",
            "\n"
          ]
        }
      ]
    },
    {
      "cell_type": "markdown",
      "source": [
        "# **Accumulator**\n",
        "- A shared variable that can be accumulated\n",
        "- the variable has a commutative and associative add operation.\n",
        "- Worker tasks on a Spark cluster can add values to an Accumulator with the += operator. worker can not access the values.\n",
        "- Only the driver program is allowed to access its value, using value.\n",
        "- Updates from the workers get propagated automatically to the driver program."
      ],
      "metadata": {
        "id": "3RvSeY2XAGOh"
      }
    },
    {
      "cell_type": "code",
      "source": [
        "#find The the count of person who has age  greater than 30\n",
        "counter_age=sc.accumulator(0)"
      ],
      "metadata": {
        "id": "WTIeSLDL4MAo"
      },
      "execution_count": 7,
      "outputs": []
    },
    {
      "cell_type": "code",
      "source": [
        "print(counter_age.value)"
      ],
      "metadata": {
        "colab": {
          "base_uri": "https://localhost:8080/"
        },
        "id": "RLIZOuQE5WqW",
        "outputId": "42935345-bd97-4fe1-d46d-ab6adb061052"
      },
      "execution_count": 8,
      "outputs": [
        {
          "output_type": "stream",
          "name": "stdout",
          "text": [
            "0\n"
          ]
        }
      ]
    },
    {
      "cell_type": "code",
      "source": [
        "def cal_age(row):\n",
        "  if row.Age>30:\n",
        "    counter_age.add(1)"
      ],
      "metadata": {
        "id": "y8wzQ15S5aUt"
      },
      "execution_count": 12,
      "outputs": []
    },
    {
      "cell_type": "code",
      "source": [
        "df.foreach(lambda x: cal_age(x))\n",
        "print(counter_age.value)"
      ],
      "metadata": {
        "colab": {
          "base_uri": "https://localhost:8080/"
        },
        "id": "-d4yXZVy5m1H",
        "outputId": "4058e2a4-4e5a-41f2-ae5a-e94cfccab567"
      },
      "execution_count": 13,
      "outputs": [
        {
          "output_type": "stream",
          "name": "stdout",
          "text": [
            "3\n"
          ]
        }
      ]
    },
    {
      "cell_type": "code",
      "source": [
        "spark.stop()"
      ],
      "metadata": {
        "id": "rAl1AQiD52Ct"
      },
      "execution_count": 14,
      "outputs": []
    }
  ]
}