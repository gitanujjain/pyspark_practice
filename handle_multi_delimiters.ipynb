{
  "nbformat": 4,
  "nbformat_minor": 0,
  "metadata": {
    "colab": {
      "provenance": [],
      "authorship_tag": "ABX9TyPPx8gqh3UAh78YNA2N82rU",
      "include_colab_link": true
    },
    "kernelspec": {
      "name": "python3",
      "display_name": "Python 3"
    },
    "language_info": {
      "name": "python"
    }
  },
  "cells": [
    {
      "cell_type": "markdown",
      "metadata": {
        "id": "view-in-github",
        "colab_type": "text"
      },
      "source": [
        "<a href=\"https://colab.research.google.com/github/gitanujjain/pyspark_practice/blob/main/handle_multi_delimiters.ipynb\" target=\"_parent\"><img src=\"https://colab.research.google.com/assets/colab-badge.svg\" alt=\"Open In Colab\"/></a>"
      ]
    },
    {
      "cell_type": "code",
      "execution_count": 1,
      "metadata": {
        "id": "Rn2ylZHkB_ye"
      },
      "outputs": [],
      "source": [
        "import os\n",
        "!apt-get install openjdk-8-jdk-headless -qq > /dev/null\n",
        "!wget -q https://dlcdn.apache.org/spark/spark-3.5.3/spark-3.5.3-bin-hadoop3.tgz\n",
        "!tar -xf spark-3.5.3-bin-hadoop3.tgz\n",
        "!pip install -q findspark\n",
        "\n",
        "os.environ[\"JAVA_HOME\"] = \"/usr/lib/jvm/java-8-openjdk-amd64\"\n",
        "os.environ[\"SPARK_HOME\"] = \"/content/spark-3.5.3-bin-hadoop3\""
      ]
    },
    {
      "cell_type": "code",
      "source": [
        "import findspark\n",
        "findspark.init()\n",
        "from pyspark.sql import SparkSession\n",
        "spark = SparkSession.builder\\\n",
        "        .master(\"local\")\\\n",
        "        .appName(\"Colab\")\\\n",
        "        .config(\"spark.driver.memory\", \"8g\")\\\n",
        "        .config(\"spark.driver.cores\",\"4\")\\\n",
        "        .getOrCreate()"
      ],
      "metadata": {
        "id": "udZkE7_GCGq1"
      },
      "execution_count": 2,
      "outputs": []
    },
    {
      "cell_type": "code",
      "source": [
        "sc=spark.sparkContext\n",
        "sc.setLogLevel(\"ERROR\")"
      ],
      "metadata": {
        "id": "scTC9BZQCJVF"
      },
      "execution_count": 5,
      "outputs": []
    },
    {
      "cell_type": "code",
      "source": [
        "from pyspark.sql.types import StructType,StringType, StructField, IntegerType, StringType, ArrayType\n"
      ],
      "metadata": {
        "id": "YEfOoyuRC_k0"
      },
      "execution_count": 10,
      "outputs": []
    },
    {
      "cell_type": "code",
      "source": [
        "data = [\n",
        "    (1, \"Arabinda\", 23, \"32|49|39\"),\n",
        "    (2, \"Shyam\", 34, \"32|90|31\"),\n",
        "    (3, \"Raghu\", 42, \"30|98|43\"),\n",
        "    (4, \"John\", 27, \"43|87|56\"),\n",
        "    (5, \"Su\", 29, \"65|76|29\"),\n",
        "    (6, \"Manderic\", 36, \"89|45|90\")\n",
        "]\n"
      ],
      "metadata": {
        "id": "MWtfMd2PDTa9"
      },
      "execution_count": 11,
      "outputs": []
    },
    {
      "cell_type": "code",
      "source": [
        "schema = StructType([\n",
        "    StructField(\"ID\", IntegerType(), False),\n",
        "    StructField(\"Name\", StringType(),True),\n",
        "    StructField(\"Age\", IntegerType(), True),\n",
        "    StructField(\"Marks\", StringType(),True)])"
      ],
      "metadata": {
        "id": "7FMNaLFVC06U"
      },
      "execution_count": 12,
      "outputs": []
    },
    {
      "cell_type": "code",
      "source": [
        "df=spark.createDataFrame(data, schema=schema)"
      ],
      "metadata": {
        "id": "a1my0EAhESEc"
      },
      "execution_count": 13,
      "outputs": []
    },
    {
      "cell_type": "code",
      "source": [
        "df.show()"
      ],
      "metadata": {
        "colab": {
          "base_uri": "https://localhost:8080/"
        },
        "id": "dPVi3i9HFihI",
        "outputId": "5ef5461d-9a71-4057-f576-a7286caba6eb"
      },
      "execution_count": 14,
      "outputs": [
        {
          "output_type": "stream",
          "name": "stdout",
          "text": [
            "+---+--------+---+--------+\n",
            "| ID|    Name|Age|   Marks|\n",
            "+---+--------+---+--------+\n",
            "|  1|Arabinda| 23|32|49|39|\n",
            "|  2|   Shyam| 34|32|90|31|\n",
            "|  3|   Raghu| 42|30|98|43|\n",
            "|  4|    John| 27|43|87|56|\n",
            "|  5|      Su| 29|65|76|29|\n",
            "|  6|Manderic| 36|89|45|90|\n",
            "+---+--------+---+--------+\n",
            "\n"
          ]
        }
      ]
    },
    {
      "cell_type": "code",
      "source": [
        "import pyspark.sql.functions as f\n",
        "df_split=df.withColumn(\"Marks\",f.split(df[\"marks\"],\"\\|\"))"
      ],
      "metadata": {
        "id": "jV_UF3KzFlKf"
      },
      "execution_count": 15,
      "outputs": []
    },
    {
      "cell_type": "code",
      "source": [
        "df_split.show()"
      ],
      "metadata": {
        "colab": {
          "base_uri": "https://localhost:8080/"
        },
        "id": "smzqc2-DGES-",
        "outputId": "cef7c597-9015-4c1b-c89e-77ff49dbd2c1"
      },
      "execution_count": 16,
      "outputs": [
        {
          "output_type": "stream",
          "name": "stdout",
          "text": [
            "+---+--------+---+------------+\n",
            "| ID|    Name|Age|       Marks|\n",
            "+---+--------+---+------------+\n",
            "|  1|Arabinda| 23|[32, 49, 39]|\n",
            "|  2|   Shyam| 34|[32, 90, 31]|\n",
            "|  3|   Raghu| 42|[30, 98, 43]|\n",
            "|  4|    John| 27|[43, 87, 56]|\n",
            "|  5|      Su| 29|[65, 76, 29]|\n",
            "|  6|Manderic| 36|[89, 45, 90]|\n",
            "+---+--------+---+------------+\n",
            "\n"
          ]
        }
      ]
    },
    {
      "cell_type": "code",
      "source": [
        "num_subjects= len(df_split.select(\"Marks\").take(1)[0][0])\n",
        "print(num_subjects)"
      ],
      "metadata": {
        "colab": {
          "base_uri": "https://localhost:8080/"
        },
        "id": "kVNS5rSZGHEh",
        "outputId": "510d8437-8ef2-4c37-dcf5-fd5e9cb4687d"
      },
      "execution_count": 17,
      "outputs": [
        {
          "output_type": "stream",
          "name": "stdout",
          "text": [
            "3\n"
          ]
        }
      ]
    },
    {
      "cell_type": "code",
      "source": [
        "column_name=[f\"sub_{each}\" for each in range(num_subjects)]\n",
        "print(column_name)"
      ],
      "metadata": {
        "colab": {
          "base_uri": "https://localhost:8080/"
        },
        "id": "qzvQh1DkG8A9",
        "outputId": "a160d233-9067-4d95-aaf4-e598ee7e5302"
      },
      "execution_count": 18,
      "outputs": [
        {
          "output_type": "stream",
          "name": "stdout",
          "text": [
            "['sub_0', 'sub_1', 'sub_2']\n"
          ]
        }
      ]
    },
    {
      "cell_type": "code",
      "source": [
        "for i, col_name in enumerate(column_name):\n",
        "    df_split=df_split.withColumn(col_name, df_split[\"Marks\"].getItem(i).cast(IntegerType()))"
      ],
      "metadata": {
        "id": "WtV0FDqyHS-n"
      },
      "execution_count": 19,
      "outputs": []
    },
    {
      "cell_type": "code",
      "source": [
        "df_split.show()"
      ],
      "metadata": {
        "colab": {
          "base_uri": "https://localhost:8080/"
        },
        "id": "l9Uf2awdIAWg",
        "outputId": "0e075e0b-845e-405d-da0f-1d752a4017c0"
      },
      "execution_count": 20,
      "outputs": [
        {
          "output_type": "stream",
          "name": "stdout",
          "text": [
            "+---+--------+---+------------+-----+-----+-----+\n",
            "| ID|    Name|Age|       Marks|sub_0|sub_1|sub_2|\n",
            "+---+--------+---+------------+-----+-----+-----+\n",
            "|  1|Arabinda| 23|[32, 49, 39]|   32|   49|   39|\n",
            "|  2|   Shyam| 34|[32, 90, 31]|   32|   90|   31|\n",
            "|  3|   Raghu| 42|[30, 98, 43]|   30|   98|   43|\n",
            "|  4|    John| 27|[43, 87, 56]|   43|   87|   56|\n",
            "|  5|      Su| 29|[65, 76, 29]|   65|   76|   29|\n",
            "|  6|Manderic| 36|[89, 45, 90]|   89|   45|   90|\n",
            "+---+--------+---+------------+-----+-----+-----+\n",
            "\n"
          ]
        }
      ]
    },
    {
      "cell_type": "code",
      "source": [
        "df_split=df_split.drop(\"Marks\")\n",
        "df_split.show()"
      ],
      "metadata": {
        "colab": {
          "base_uri": "https://localhost:8080/"
        },
        "id": "RY2VPgtSIDuf",
        "outputId": "a98900f8-10fa-4d5a-c237-cd9e229e6d78"
      },
      "execution_count": 21,
      "outputs": [
        {
          "output_type": "stream",
          "name": "stdout",
          "text": [
            "+---+--------+---+-----+-----+-----+\n",
            "| ID|    Name|Age|sub_0|sub_1|sub_2|\n",
            "+---+--------+---+-----+-----+-----+\n",
            "|  1|Arabinda| 23|   32|   49|   39|\n",
            "|  2|   Shyam| 34|   32|   90|   31|\n",
            "|  3|   Raghu| 42|   30|   98|   43|\n",
            "|  4|    John| 27|   43|   87|   56|\n",
            "|  5|      Su| 29|   65|   76|   29|\n",
            "|  6|Manderic| 36|   89|   45|   90|\n",
            "+---+--------+---+-----+-----+-----+\n",
            "\n"
          ]
        }
      ]
    },
    {
      "cell_type": "code",
      "source": [
        "spark.stop()"
      ],
      "metadata": {
        "id": "QN676MRlIago"
      },
      "execution_count": 22,
      "outputs": []
    },
    {
      "cell_type": "code",
      "source": [],
      "metadata": {
        "id": "r7kKwjyuJFKv"
      },
      "execution_count": null,
      "outputs": []
    }
  ]
}